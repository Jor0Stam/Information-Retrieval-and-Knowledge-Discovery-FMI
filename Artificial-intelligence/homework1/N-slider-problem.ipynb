{
 "cells": [
  {
   "cell_type": "code",
   "execution_count": 33,
   "metadata": {},
   "outputs": [
    {
     "name": "stdout",
     "output_type": "stream",
     "text": [
      "8\n"
     ]
    },
    {
     "ename": "TypeError",
     "evalue": "init_field() takes 0 positional arguments but 1 was given",
     "output_type": "error",
     "traceback": [
      "\u001b[0;31m---------------------------------------------------------------------------\u001b[0m",
      "\u001b[0;31mTypeError\u001b[0m                                 Traceback (most recent call last)",
      "\u001b[0;32m<ipython-input-33-52b04fe3c958>\u001b[0m in \u001b[0;36m<module>\u001b[0;34m()\u001b[0m\n\u001b[1;32m      4\u001b[0m \u001b[0;34m\u001b[0m\u001b[0m\n\u001b[1;32m      5\u001b[0m \u001b[0mfield\u001b[0m \u001b[0;34m=\u001b[0m \u001b[0mGameField\u001b[0m\u001b[0;34m(\u001b[0m\u001b[0mnumber_of_tiles\u001b[0m\u001b[0;34m,\u001b[0m \u001b[0mzero_start_index\u001b[0m\u001b[0;34m)\u001b[0m\u001b[0;34m\u001b[0m\u001b[0m\n\u001b[0;32m----> 6\u001b[0;31m \u001b[0mfield\u001b[0m\u001b[0;34m.\u001b[0m\u001b[0minit_field\u001b[0m\u001b[0;34m(\u001b[0m\u001b[0;34m)\u001b[0m\u001b[0;34m\u001b[0m\u001b[0m\n\u001b[0m",
      "\u001b[0;31mTypeError\u001b[0m: init_field() takes 0 positional arguments but 1 was given"
     ]
    }
   ],
   "source": [
    "number_of_tiles = input()\n",
    "zero_start_index = -1\n",
    "a = Tile()\n",
    "\n",
    "field = GameField(number_of_tiles, zero_start_index)\n",
    "field.init_field()"
   ]
  },
  {
   "cell_type": "code",
   "execution_count": 32,
   "metadata": {},
   "outputs": [],
   "source": [
    "class GameField:\n",
    "    number_of_tiles = -999\n",
    "    zero_start_index = -999\n",
    "    \n",
    "    field = []\n",
    "    \n",
    "    def __init__(self, number_of_tiles, zero_start_index):\n",
    "        self.number_of_tiles = number_of_tiles\n",
    "        self.zero_start_index = zero_start_index\n",
    "        \n",
    "    def init_field():\n",
    "        row_len = sqrt(this.number_of_tiles)\n",
    "        self.field = [[Tile() for i in range(row_len)] for i in range(row_len)]\n",
    "        return self.field"
   ]
  },
  {
   "cell_type": "code",
   "execution_count": 29,
   "metadata": {},
   "outputs": [],
   "source": [
    "class Tile:\n",
    "    def __init__(self, value = -9, is_empty = False):\n",
    "        self.tile_value = value\n",
    "        self.is_empty = is_empty\n",
    "    \n",
    "    tile_value = -9\n",
    "    is_empty = False"
   ]
  }
 ],
 "metadata": {
  "kernelspec": {
   "display_name": "Python 3",
   "language": "python",
   "name": "python3"
  },
  "language_info": {
   "codemirror_mode": {
    "name": "ipython",
    "version": 3
   },
   "file_extension": ".py",
   "mimetype": "text/x-python",
   "name": "python",
   "nbconvert_exporter": "python",
   "pygments_lexer": "ipython3",
   "version": "3.5.2"
  }
 },
 "nbformat": 4,
 "nbformat_minor": 2
}
